{
 "cells": [
  {
   "cell_type": "code",
   "execution_count": null,
   "id": "db73a170",
   "metadata": {},
   "outputs": [],
   "source": [
    "\"\"\"\n",
    "inferencer.py\n",
    "\n",
    "Batch inference entry point.\n",
    "\n",
    "Usage\n",
    "-----\n",
    "python -m src.inference.inferencer \\\n",
    "    data/inference/newdata_fraudTest.csv config.yaml data/inference/output_predictions.csv\n",
    "\"\"\"\n",
    "\n",
    "import os, sys, logging, pickle\n",
    "\n",
    "import argparse\n",
    "from datetime import datetime\n",
    "from typing import List, Dict\n",
    "import pandas as pd\n",
    "import yaml\n",
    "from pydantic import BaseModel, ValidationError\n",
    "\n",
    "from __future__ import annotations\n",
    "\n",
    "from pathlib import Path\n",
    "\n",
    "\n",
    "\n",
    "from preprocess.preprocessing import get_output_feature_names\n"
   ]
  }
 ],
 "metadata": {
  "language_info": {
   "name": "python"
  }
 },
 "nbformat": 4,
 "nbformat_minor": 5
}
